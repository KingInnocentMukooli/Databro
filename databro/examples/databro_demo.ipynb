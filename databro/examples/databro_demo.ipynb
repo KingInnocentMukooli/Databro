{
 "cells": [
  {
   "cell_type": "markdown",
   "metadata": {},
   "source": [
    "# DataBro Library Demo\n",
    "This notebook demonstrates the usage of DataBro library with the Iris dataset."
   ]
  },
  {
   "cell_type": "code",
   "execution_count": null,
   "metadata": {},
   "source": [
    "# First, let's install our required dependencies\n",
    "!pip install pandas numpy matplotlib seaborn plotly scikit-learn tabulate"
   ]
  },
  {
   "cell_type": "code",
   "execution_count": null,
   "metadata": {},
   "source": [
    "# Import required libraries\n",
    "from sklearn.datasets import load_iris\n",
    "import pandas as pd\n",
    "\n",
    "# Load the iris dataset\n",
    "iris = load_iris()\n",
    "iris_df = pd.DataFrame(iris.data, columns=iris.feature_names)\n",
    "iris_df['target'] = iris.target\n",
    "\n",
    "# Save it as CSV for our loader\n",
    "iris_df.to_csv('iris_data.csv', index=False)"
   ]
  },
  {
   "cell_type": "code",
   "execution_count": null,
   "metadata": {},
   "source": [
    "# Import DataBro components\n",
    "from databro import DataLoader, DataPreprocessor, DataVisualizer, DataSummarizer\n",
    "\n",
    "# Initialize components\n",
    "loader = DataLoader()\n",
    "preprocessor = DataPreprocessor()\n",
    "visualizer = DataVisualizer()\n",
    "summarizer = DataSummarizer()"
   ]
  },
  {
   "cell_type": "markdown",
   "metadata": {},
   "source": [
    "## 1. Loading and Inspecting Data"
   ]
  },
  {
   "cell_type": "code",
   "execution_count": null,
   "metadata": {},
   "source": [
    "# Load the data\n",
    "df = loader.load_csv('iris_data.csv')\n",
    "\n",
    "# Get information about the dataset\n",
    "loader.get_info()\n",
    "\n",
    "# Show sample of the data\n",
    "loader.show_sample(n=3)"
   ]
  },
  {
   "cell_type": "markdown",
   "metadata": {},
   "source": [
    "## 2. Data Preprocessing"
   ]
  },
  {
   "cell_type": "code",
   "execution_count": null,
   "metadata": {},
   "source": [
    "# Scale the numerical features\n",
    "scaled_df = preprocessor.scale_data(df, method='standard', \n",
    "                                   columns=[col for col in df.columns if col != 'target'])\n",
    "\n",
    "print(\"\\nFirst few rows of scaled data:\")\n",
    "print(scaled_df.head())"
   ]
  },
  {
   "cell_type": "markdown",
   "metadata": {},
   "source": [
    "## 3. Data Visualization"
   ]
  },
  {
   "cell_type": "code",
   "execution_count": null,
   "metadata": {},
   "source": [
    "# Create various plots\n",
    "# 1. Distribution of sepal length\n",
    "visualizer.plot_histogram(df, 'sepal length (cm)', interactive=True)\n",
    "\n",
    "# 2. Scatter plot of sepal length vs sepal width\n",
    "visualizer.plot_scatter(df, \n",
    "                       x='sepal length (cm)', \n",
    "                       y='sepal width (cm)', \n",
    "                       hue='target',\n",
    "                       interactive=True)\n",
    "\n",
    "# 3. Correlation heatmap\n",
    "visualizer.plot_heatmap(df)"
   ]
  },
  {
   "cell_type": "markdown",
   "metadata": {},
   "source": [
    "## 4. Data Summarization"
   ]
  },
  {
   "cell_type": "code",
   "execution_count": null,
   "metadata": {},
   "source": [
    "# Get basic statistics\n",
    "stats = summarizer.get_basic_stats(df)\n",
    "print(\"Basic Statistics:\")\n",
    "print(stats)\n",
    "\n",
    "# Get correlation summary\n",
    "corr_summary = summarizer.get_correlation_summary(df, threshold=0.5)\n",
    "print(\"\\nStrong Correlations:\")\n",
    "print(corr_summary)\n",
    "\n",
    "# Generate a comprehensive report\n",
    "summarizer.generate_report(df, 'iris_report.txt')\n",
    "print(\"\\nReport generated and saved to 'iris_report.txt'\")"
   ]
  },
  {
   "cell_type": "markdown",
   "metadata": {},
   "source": [
    "## 5. Advanced Visualizations"
   ]
  },
  {
   "cell_type": "code",
   "execution_count": null,
   "metadata": {},
   "source": [
    "# Box plot for each feature by target class\n",
    "for feature in iris.feature_names:\n",
    "    visualizer.plot_box(df, column=feature, by='target', interactive=True)"
   ]
  }
 ],
 "metadata": {
  "kernelspec": {
   "display_name": "Python 3",
   "language": "python",
   "name": "python3"
  },
  "language_info": {
   "codemirror_mode": {
    "name": "ipython",
    "version": 3
   },
   "file_extension": ".py",
   "mimetype": "text/x-python",
   "name": "python",
   "nbconvert_exporter": "python",
   "pygments_lexer": "ipython3",
   "version": "3.8.0"
  }
 },
 "nbformat": 4,
 "nbformat_minor": 4
}
